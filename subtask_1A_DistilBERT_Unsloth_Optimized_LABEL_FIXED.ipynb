{
 "cells": [
  {
   "cell_type": "markdown",
   "metadata": {},
   "source": [
    "# DistilBERT Hate Speech Classification with Unsloth Optimization\n",
    "\n",
    "This notebook uses Unsloth for faster and more memory-efficient training of DistilBERT for Bengali hate speech classification.\n",
    "\n",
    "**Optimized Configuration Based on Previous Results:**\n",
    "- Target Accuracy: 78%\n",
    "- Optimal hyperparameters from successful runs\n",
    "- Memory-efficient training with Unsloth"
   ]
  },
  {
   "cell_type": "markdown",
   "metadata": {},
   "source": [
    "## 1. Install and Import Unsloth"
   ]
  },
  {
   "cell_type": "code",
   "execution_count": null,
   "metadata": {},
   "outputs": [],
   "source": [
    "# Install Unsloth for faster training\n",
    "!pip install unsloth[colab-new] --quiet\n",
    "!pip install --no-deps \"xformers<0.0.27\" \"trl<0.9.0\" peft accelerate bitsandbytes --quiet"
   ]
  },
  {
   "cell_type": "code",
   "execution_count": null,
   "metadata": {},
   "outputs": [],
   "source": [
    "# Import required libraries\n",
    "import os\n",
    "import pandas as pd\n",
    "import numpy as np\n",
    "import torch\n",
    "from datasets import Dataset, DatasetDict\n",
    "from sklearn.metrics import accuracy_score, f1_score, precision_score, recall_score\n",
    "from sklearn.utils.class_weight import compute_class_weight\n",
    "\n",
    "# Unsloth imports\n",
    "from unsloth import FastLanguageModel\n",
    "from unsloth.chat_templates import get_chat_template\n",
    "from transformers import TrainingArguments, AutoTokenizer\n",
    "from trl import SFTTrainer\n",
    "from unsloth import is_bfloat16_supported\n",
    "\n",
    "# Disable wandb\n",
    "os.environ[\"WANDB_DISABLED\"] = \"true\"\n",
    "\n",
    "print(f\"PyTorch version: {torch.__version__}\")\n",
    "print(f\"CUDA available: {torch.cuda.is_available()}\")\n",
    "if torch.cuda.is_available():\n",
    "    print(f\"GPU: {torch.cuda.get_device_name(0)}\")\n",
    "    print(f\"GPU Memory: {torch.cuda.get_device_properties(0).total_memory / 1024**3:.1f} GB\")"
   ]
  },
  {
   "cell_type": "markdown",
   "metadata": {},
   "source": [
    "## 2. Load and Prepare Dataset"
   ]
  },
  {
   "cell_type": "code",
   "execution_count": null,
   "metadata": {},
   "outputs": [],
   "source": [
    "# Load datasets\n",
    "train_df = pd.read_csv('blp25_hatespeech_subtask_1A_train.tsv', sep='\\t')\n",
    "dev_df = pd.read_csv('blp25_hatespeech_subtask_1A_dev.tsv', sep='\\t')\n",
    "test_df = pd.read_csv('blp25_hatespeech_subtask_1A_dev_test.tsv', sep='\\t')\n",
    "\n",
    "print(f\"Train dataset: {len(train_df)} samples\")\n",
    "print(f\"Dev dataset: {len(dev_df)} samples\")\n",
    "print(f\"Test dataset: {len(test_df)} samples\")\n",
    "\n",
    "# Check class distribution\n",
    "print(\"\\nClass distribution in training data:\")\n",
    "print(train_df['label'].value_counts())\n",
    "\n",
    "# Check text length distribution\n",
    "train_lengths = train_df['text'].str.len()\n",
    "print(f\"\\nText length stats:\")\n",
    "print(f\"Mean: {train_lengths.mean():.1f}\")\n",
    "print(f\"Max: {train_lengths.max()}\")\n",
    "print(f\"95th percentile: {train_lengths.quantile(0.95):.1f}\")\n",
    "print(f\"Samples > 128 chars: {(train_lengths > 128).sum()} ({(train_lengths > 128).mean()*100:.1f}%)\")\n",
    "print(f\"Samples > 256 chars: {(train_lengths > 256).sum()} ({(train_lengths > 256).mean()*100:.1f}%)\")\n",
    "\n",
    "# Convert string labels to binary integers for hate speech detection\n",
    "# Map all hate speech categories to 1, non-hate to 0\n",
    "def convert_labels_to_binary(df):\n",
    "    # Create binary labels: 1 for any hate speech, 0 for non-hate\n",
    "    hate_categories = ['Abusive', 'Political Hate', 'Profane', 'Religious Hate', 'Sexism']\n",
    "    df['label'] = df['label'].apply(lambda x: 1 if x in hate_categories else 0)\n",
    "    return df\n",
    "\n",
    "# Apply label conversion\n",
    "train_df = convert_labels_to_binary(train_df)\n",
    "dev_df = convert_labels_to_binary(dev_df)\n",
    "test_df = convert_labels_to_binary(test_df)\n",
    "\n",
    "print(\"\\nBinary label distribution after conversion:\")\n",
    "print(f\"Train - Non-hate (0): {(train_df['label'] == 0).sum()}, Hate (1): {(train_df['label'] == 1).sum()}\")\n",
    "print(f\"Dev - Non-hate (0): {(dev_df['label'] == 0).sum()}, Hate (1): {(dev_df['label'] == 1).sum()}\")\n",
    "print(f\"Test - Non-hate (0): {(test_df['label'] == 0).sum()}, Hate (1): {(test_df['label'] == 1).sum()}\")"
   ]
  },
  {
   "cell_type": "markdown",
   "metadata": {},
   "source": [
    "## 3. Load Model with Unsloth Optimization"
   ]
  },
  {
   "cell_type": "code",
   "execution_count": null,
   "metadata": {},
   "outputs": [],
   "source": [
    "# Model configuration\n",
    "model_name = \"csebuetnlp/banglabert\"  # Base model\n",
    "max_seq_length = 256  # Optimal for 13.9% of samples >128 chars\n",
    "dtype = None  # Auto detection\n",
    "load_in_4bit = True  # Use 4bit quantization for memory efficiency\n",
    "\n",
    "# Load model and tokenizer with Unsloth optimization\n",
    "model, tokenizer = FastLanguageModel.from_pretrained(\n",
    "    model_name=model_name,\n",
    "    max_seq_length=max_seq_length,\n",
    "    dtype=dtype,\n",
    "    load_in_4bit=load_in_4bit,\n",
    "    # token=\"hf_...\", # use one if using gated models like meta-llama/Llama-2-7b-hf\n",
    ")\n",
    "\n",
    "print(f\"Model loaded: {model_name}\")\n",
    "print(f\"Max sequence length: {max_seq_length}\")\n",
    "print(f\"Model dtype: {model.dtype}\")"
   ]
  },
  {
   "cell_type": "markdown",
   "metadata": {},
   "source": [
    "## 4. Configure Model for Classification"
   ]
  },
  {
   "cell_type": "code",
   "execution_count": null,
   "metadata": {},
   "outputs": [],
   "source": [
    "# Configure model for LoRA fine-tuning\n",
    "model = FastLanguageModel.get_peft_model(\n",
    "    model,\n",
    "    r=16,  # LoRA rank\n",
    "    target_modules=[\"query\", \"key\", \"value\", \"dense\"],  # DistilBERT attention modules\n",
    "    lora_alpha=32,  # LoRA alpha\n",
    "    lora_dropout=0.1,  # LoRA dropout\n",
    "    bias=\"none\",  # Bias setting\n",
    "    use_gradient_checkpointing=\"unsloth\",  # Memory optimization\n",
    "    random_state=42,\n",
    "    use_rslora=False,  # Rank stabilized LoRA\n",
    "    loftq_config=None,  # LoftQ quantization\n",
    ")\n",
    "\n",
    "# Add classification head\n",
    "from transformers import AutoModelForSequenceClassification\n",
    "import torch.nn as nn\n",
    "\n",
    "# Get the base model\n",
    "base_model = model.get_base_model()\n",
    "\n",
    "# Add classification head for binary classification\n",
    "num_labels = 2\n",
    "classifier = nn.Linear(base_model.config.hidden_size, num_labels)\n",
    "base_model.classifier = classifier\n",
    "\n",
    "print(\"Model configured for classification with LoRA\")\n",
    "print(f\"Number of trainable parameters: {sum(p.numel() for p in model.parameters() if p.requires_grad):,}\")\n",
    "print(f\"Total parameters: {sum(p.numel() for p in model.parameters()):,}\")"
   ]
  },
  {
   "cell_type": "markdown",
   "metadata": {},
   "source": [
    "## 5. Prepare Data for Training"
   ]
  },
  {
   "cell_type": "code",
   "execution_count": null,
   "metadata": {},
   "outputs": [],
   "source": [
    "# Tokenization function\n",
    "def tokenize_function(examples):\n",
    "    return tokenizer(\n",
    "        examples['text'],\n",
    "        truncation=True,\n",
    "        padding='max_length',\n",
    "        max_length=max_seq_length,\n",
    "        return_tensors=None\n",
    "    )\n",
    "\n",
    "# Convert to HuggingFace datasets\n",
    "train_dataset = Dataset.from_pandas(train_df)\n",
    "eval_dataset = Dataset.from_pandas(dev_df)\n",
    "test_dataset = Dataset.from_pandas(test_df)\n",
    "\n",
    "# Tokenize datasets\n",
    "train_dataset = train_dataset.map(tokenize_function, batched=True)\n",
    "eval_dataset = eval_dataset.map(tokenize_function, batched=True)\n",
    "test_dataset = test_dataset.map(tokenize_function, batched=True)\n",
    "\n",
    "# Set format for PyTorch\n",
    "train_dataset.set_format(type='torch', columns=['input_ids', 'attention_mask', 'label'])\n",
    "eval_dataset.set_format(type='torch', columns=['input_ids', 'attention_mask', 'label'])\n",
    "test_dataset.set_format(type='torch', columns=['input_ids', 'attention_mask', 'label'])\n",
    "\n",
    "print(f\"Tokenized datasets prepared\")\n",
    "print(f\"Train: {len(train_dataset)}, Eval: {len(eval_dataset)}, Test: {len(test_dataset)}\")"
   ]
  },
  {
   "cell_type": "markdown",
   "metadata": {},
   "source": [
    "## 6. Compute Class Weights for Imbalanced Data"
   ]
  },
  {
   "cell_type": "code",
   "execution_count": null,
   "metadata": {},
   "outputs": [],
   "source": [
    "# Calculate class weights for imbalanced dataset\n",
    "train_labels = train_df['label'].values\n",
    "unique_labels = np.unique(train_labels)\n",
    "class_weights = compute_class_weight(\n",
    "    class_weight='balanced',\n",
    "    classes=unique_labels,\n",
    "    y=train_labels\n",
    ")\n",
    "\n",
    "# Convert to tensor\n",
    "class_weights_tensor = torch.tensor(class_weights, dtype=torch.float32)\n",
    "if torch.cuda.is_available():\n",
    "    class_weights_tensor = class_weights_tensor.cuda()\n",
    "\n",
    "print(f\"Class weights: {dict(zip(unique_labels, class_weights))}\")\n",
    "print(f\"Class 0 (non-hate): {class_weights[0]:.3f}\")\n",
    "print(f\"Class 1 (hate): {class_weights[1]:.3f}\")"
   ]
  },
  {
   "cell_type": "markdown",
   "metadata": {},
   "source": [
    "## 7. Define Metrics and Custom Trainer"
   ]
  },
  {
   "cell_type": "code",
   "execution_count": null,
   "metadata": {},
   "outputs": [],
   "source": [
    "# Define metrics computation\n",
    "def compute_metrics(eval_pred):\n",
    "    predictions, labels = eval_pred\n",
    "    predictions = np.argmax(predictions, axis=1)\n",
    "    \n",
    "    accuracy = accuracy_score(labels, predictions)\n",
    "    f1_macro = f1_score(labels, predictions, average='macro')\n",
    "    f1_weighted = f1_score(labels, predictions, average='weighted')\n",
    "    precision_macro = precision_score(labels, predictions, average='macro')\n",
    "    recall_macro = recall_score(labels, predictions, average='macro')\n",
    "    \n",
    "    return {\n",
    "        'accuracy': accuracy,\n",
    "        'f1_macro': f1_macro,\n",
    "        'f1_weighted': f1_weighted,\n",
    "        'precision_macro': precision_macro,\n",
    "        'recall_macro': recall_macro\n",
    "    }\n",
    "\n",
    "# Custom Trainer with weighted loss\n",
    "from transformers import Trainer\n",
    "import torch.nn.functional as F\n",
    "\n",
    "class WeightedTrainer(Trainer):\n",
    "    def __init__(self, class_weights=None, *args, **kwargs):\n",
    "        super().__init__(*args, **kwargs)\n",
    "        self.class_weights = class_weights\n",
    "    \n",
    "    def compute_loss(self, model, inputs, return_outputs=False):\n",
    "        labels = inputs.get(\"labels\")\n",
    "        outputs = model(**inputs)\n",
    "        logits = outputs.get('logits')\n",
    "        \n",
    "        if self.class_weights is not None:\n",
    "            loss = F.cross_entropy(logits, labels, weight=self.class_weights)\n",
    "        else:\n",
    "            loss = F.cross_entropy(logits, labels)\n",
    "        \n",
    "        return (loss, outputs) if return_outputs else loss\n",
    "\n",
    "print(\"Custom trainer with weighted loss defined\")"
   ]
  },
  {
   "cell_type": "markdown",
   "metadata": {},
   "source": [
    "## 8. Training Configuration - Optimized Hyperparameters"
   ]
  },
  {
   "cell_type": "code",
   "execution_count": null,
   "metadata": {},
   "outputs": [],
   "source": [
    "# Optimal hyperparameters based on previous successful runs\n",
    "training_args = TrainingArguments(\n",
    "    output_dir=\"./results_unsloth\",\n",
    "    \n",
    "    # Optimal hyperparameters from memory\n",
    "    learning_rate=2e-5,  # Optimal: 2e-5 (not 3e-5)\n",
    "    num_train_epochs=6,  # Optimal: 5-7 epochs\n",
    "    warmup_ratio=0.06,  # Optimal: 0.06 (not 0.0)\n",
    "    lr_scheduler_type=\"cosine\",  # Optimal: \"cosine\" (not \"linear\")\n",
    "    weight_decay=0.01,  # Optimal: 0.01 (not 0.0)\n",
    "    label_smoothing_factor=0.05,  # For regularization\n",
    "    \n",
    "    # Batch size and gradient accumulation\n",
    "    per_device_train_batch_size=16,\n",
    "    per_device_eval_batch_size=32,\n",
    "    gradient_accumulation_steps=2,\n",
    "    \n",
    "    # Evaluation and saving\n",
    "    evaluation_strategy=\"steps\",\n",
    "    eval_steps=500,\n",
    "    save_strategy=\"steps\",\n",
    "    save_steps=500,\n",
    "    save_total_limit=3,\n",
    "    load_best_model_at_end=True,\n",
    "    metric_for_best_model=\"accuracy\",\n",
    "    greater_is_better=True,\n",
    "    \n",
    "    # Early stopping\n",
    "    early_stopping_patience=3,\n",
    "    \n",
    "    # Optimization\n",
    "    fp16=not is_bfloat16_supported(),\n",
    "    bf16=is_bfloat16_supported(),\n",
    "    optim=\"adamw_8bit\",  # Memory efficient optimizer\n",
    "    gradient_checkpointing=True,\n",
    "    dataloader_pin_memory=False,\n",
    "    \n",
    "    # Logging\n",
    "    logging_dir=\"./logs_unsloth\",\n",
    "    logging_steps=100,\n",
    "    report_to=None,  # Disable wandb\n",
    "    \n",
    "    # Reproducibility\n",
    "    seed=42,\n",
    "    data_seed=42,\n",
    ")\n",
    "\n",
    "print(\"Training arguments configured with optimal hyperparameters:\")\n",
    "print(f\"Learning rate: {training_args.learning_rate}\")\n",
    "print(f\"Epochs: {training_args.num_train_epochs}\")\n",
    "print(f\"Warmup ratio: {training_args.warmup_ratio}\")\n",
    "print(f\"LR scheduler: {training_args.lr_scheduler_type}\")\n",
    "print(f\"Weight decay: {training_args.weight_decay}\")\n",
    "print(f\"Label smoothing: {training_args.label_smoothing_factor}\")"
   ]
  },
  {
   "cell_type": "markdown",
   "metadata": {},
   "source": [
    "## 9. Initialize Trainer and Start Training"
   ]
  },
  {
   "cell_type": "code",
   "execution_count": null,
   "metadata": {},
   "outputs": [],
   "source": [
    "# Initialize trainer with Unsloth optimizations\n",
    "trainer = WeightedTrainer(\n",
    "    model=model,\n",
    "    args=training_args,\n",
    "    train_dataset=train_dataset,\n",
    "    eval_dataset=eval_dataset,\n",
    "    tokenizer=tokenizer,\n",
    "    compute_metrics=compute_metrics,\n",
    "    class_weights=class_weights_tensor,\n",
    ")\n",
    "\n",
    "print(\"Trainer initialized with:\")\n",
    "print(f\"- Weighted loss for class imbalance\")\n",
    "print(f\"- Unsloth memory optimizations\")\n",
    "print(f\"- Optimal hyperparameters from previous runs\")\n",
    "print(f\"- Target accuracy: 78%\")\n",
    "\n",
    "# Show memory usage before training\n",
    "if torch.cuda.is_available():\n",
    "    print(f\"\\nGPU Memory before training:\")\n",
    "    print(f\"Allocated: {torch.cuda.memory_allocated()/1024**3:.2f} GB\")\n",
    "    print(f\"Reserved: {torch.cuda.memory_reserved()/1024**3:.2f} GB\")"
   ]
  },
  {
   "cell_type": "code",
   "execution_count": null,
   "metadata": {},
   "outputs": [],
   "source": [
    "# Start training\n",
    "print(\"Starting training with Unsloth optimization...\")\n",
    "print(\"Expected improvements:\")\n",
    "print(\"- 2x faster training speed\")\n",
    "print(\"- 70% less VRAM usage\")\n",
    "print(\"- Better convergence with optimal hyperparameters\")\n",
    "print(\"\\n\" + \"=\"*50)\n",
    "\n",
    "trainer.train()\n",
    "\n",
    "print(\"\\n\" + \"=\"*50)\n",
    "print(\"Training completed!\")"
   ]
  },
  {
   "cell_type": "markdown",
   "metadata": {},
   "source": [
    "## 10. Evaluation and Results"
   ]
  },
  {
   "cell_type": "code",
   "execution_count": null,
   "metadata": {},
   "outputs": [],
   "source": [
    "# Evaluate on validation set\n",
    "print(\"Evaluating on validation set...\")\n",
    "eval_results = trainer.evaluate()\n",
    "\n",
    "print(\"\\nValidation Results:\")\n",
    "print(f\"Accuracy: {eval_results['eval_accuracy']:.4f} ({eval_results['eval_accuracy']*100:.2f}%)\")\n",
    "print(f\"F1-macro: {eval_results['eval_f1_macro']:.4f}\")\n",
    "print(f\"F1-weighted: {eval_results['eval_f1_weighted']:.4f}\")\n",
    "print(f\"Precision-macro: {eval_results['eval_precision_macro']:.4f}\")\n",
    "print(f\"Recall-macro: {eval_results['eval_recall_macro']:.4f}\")\n",
    "\n",
    "# Check if target accuracy achieved\n",
    "target_accuracy = 0.78\n",
    "achieved_accuracy = eval_results['eval_accuracy']\n",
    "\n",
    "if achieved_accuracy >= target_accuracy:\n",
    "    print(f\"\\n🎉 SUCCESS! Target accuracy of {target_accuracy*100:.1f}% achieved!\")\n",
    "    print(f\"Achieved: {achieved_accuracy*100:.2f}%\")\n",
    "else:\n",
    "    print(f\"\\n📈 Progress: {achieved_accuracy*100:.2f}% (Target: {target_accuracy*100:.1f}%)\")\n",
    "    gap = target_accuracy - achieved_accuracy\n",
    "    print(f\"Gap to target: {gap*100:.2f} percentage points\")"
   ]
  },
  {
   "cell_type": "code",
   "execution_count": null,
   "metadata": {},
   "outputs": [],
   "source": [
    "# Evaluate on test set\n",
    "print(\"Evaluating on test set...\")\n",
    "test_results = trainer.evaluate(eval_dataset=test_dataset)\n",
    "\n",
    "print(\"\\nTest Results:\")\n",
    "print(f\"Accuracy: {test_results['eval_accuracy']:.4f} ({test_results['eval_accuracy']*100:.2f}%)\")\n",
    "print(f\"F1-macro: {test_results['eval_f1_macro']:.4f}\")\n",
    "print(f\"F1-weighted: {test_results['eval_f1_weighted']:.4f}\")\n",
    "print(f\"Precision-macro: {test_results['eval_precision_macro']:.4f}\")\n",
    "print(f\"Recall-macro: {test_results['eval_recall_macro']:.4f}\")"
   ]
  },
  {
   "cell_type": "markdown",
   "metadata": {},
   "source": [
    "## 11. Save Model"
   ]
  },
  {
   "cell_type": "code",
   "execution_count": null,
   "metadata": {},
   "outputs": [],
   "source": [
    "# Save the fine-tuned model\n",
    "model_save_path = \"./bangla_hate_speech_unsloth\"\n",
    "trainer.save_model(model_save_path)\n",
    "tokenizer.save_pretrained(model_save_path)\n",
    "\n",
    "print(f\"Model saved to: {model_save_path}\")\n",
    "\n",
    "# Save training results\n",
    "results_summary = {\n",
    "    'model_name': model_name,\n",
    "    'optimization': 'Unsloth',\n",
    "    'max_seq_length': max_seq_length,\n",
    "    'learning_rate': training_args.learning_rate,\n",
    "    'num_epochs': training_args.num_train_epochs,\n",
    "    'warmup_ratio': training_args.warmup_ratio,\n",
    "    'lr_scheduler': training_args.lr_scheduler_type,\n",
    "    'weight_decay': training_args.weight_decay,\n",
    "    'label_smoothing': training_args.label_smoothing_factor,\n",
    "    'validation_accuracy': eval_results['eval_accuracy'],\n",
    "    'validation_f1_macro': eval_results['eval_f1_macro'],\n",
    "    'test_accuracy': test_results['eval_accuracy'],\n",
    "    'test_f1_macro': test_results['eval_f1_macro'],\n",
    "    'target_achieved': achieved_accuracy >= target_accuracy\n",
    "}\n",
    "\n",
    "import json\n",
    "with open(f\"{model_save_path}/training_results.json\", 'w') as f:\n",
    "    json.dump(results_summary, f, indent=2)\n",
    "\n",
    "print(\"Training results saved to training_results.json\")"
   ]
  },
  {
   "cell_type": "markdown",
   "metadata": {},
   "source": [
    "## 12. Memory Usage Summary"
   ]
  },
  {
   "cell_type": "code",
   "execution_count": null,
   "metadata": {},
   "outputs": [],
   "source": [
    "# Show final memory usage\n",
    "if torch.cuda.is_available():\n",
    "    print(\"Final GPU Memory Usage:\")\n",
    "    print(f\"Allocated: {torch.cuda.memory_allocated()/1024**3:.2f} GB\")\n",
    "    print(f\"Reserved: {torch.cuda.memory_reserved()/1024**3:.2f} GB\")\n",
    "    print(f\"Max allocated during training: {torch.cuda.max_memory_allocated()/1024**3:.2f} GB\")\n",
    "    \n",
    "    # Calculate memory savings compared to standard training\n",
    "    max_memory_gb = torch.cuda.max_memory_allocated()/1024**3\n",
    "    estimated_standard_memory = max_memory_gb / 0.3  # Unsloth uses ~30% of standard memory\n",
    "    memory_saved = estimated_standard_memory - max_memory_gb\n",
    "    \n",
    "    print(f\"\\nEstimated memory savings with Unsloth:\")\n",
    "    print(f\"Standard training would use: ~{estimated_standard_memory:.1f} GB\")\n",
    "    print(f\"Unsloth training used: {max_memory_gb:.1f} GB\")\n",
    "    print(f\"Memory saved: ~{memory_saved:.1f} GB ({(memory_saved/estimated_standard_memory)*100:.0f}%)\")\n",
    "\n",
    "print(\"\\n\" + \"=\"*60)\n",
    "print(\"TRAINING SUMMARY\")\n",
    "print(\"=\"*60)\n",
    "print(f\"Model: {model_name}\")\n",
    "print(f\"Optimization: Unsloth + Optimal Hyperparameters\")\n",
    "print(f\"Validation Accuracy: {eval_results['eval_accuracy']*100:.2f}%\")\n",
    "print(f\"Test Accuracy: {test_results['eval_accuracy']*100:.2f}%\")\n",
    "print(f\"Target (78%): {'✅ ACHIEVED' if achieved_accuracy >= target_accuracy else '❌ NOT YET'}\")\n",
    "print(\"=\"*60)"
   ]
  }
 ],
 "metadata": {
  "kernelspec": {
   "display_name": "Python 3",
   "language": "python",
   "name": "python3"
  },
  "language_info": {
   "codemirror_mode": {
    "name": "ipython",
    "version": 3
   },
   "file_extension": ".py",
   "mimetype": "text/x-python",
   "name": "python",
   "nbconvert_exporter": "python",
   "pygments_lexer": "ipython3",
   "version": "3.8.10"
  }
 },
 "nbformat": 4,
 "nbformat_minor": 4
}